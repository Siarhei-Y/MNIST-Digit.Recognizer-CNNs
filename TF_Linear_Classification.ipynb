{
  "nbformat": 4,
  "nbformat_minor": 0,
  "metadata": {
    "colab": {
      "name": "TF_Linear_Classification.ipynb",
      "provenance": [],
      "authorship_tag": "ABX9TyPRtMLPtl88lYaq7LzBT791",
      "include_colab_link": true
    },
    "kernelspec": {
      "name": "python3",
      "display_name": "Python 3"
    },
    "language_info": {
      "name": "python"
    }
  },
  "cells": [
    {
      "cell_type": "markdown",
      "metadata": {
        "id": "view-in-github",
        "colab_type": "text"
      },
      "source": [
        "<a href=\"https://colab.research.google.com/github/Siarhei-Y/MNIST-Digit.Recognizer-CNNs/blob/master/TF_Linear_Classification.ipynb\" target=\"_parent\"><img src=\"https://colab.research.google.com/assets/colab-badge.svg\" alt=\"Open In Colab\"/></a>"
      ]
    },
    {
      "cell_type": "code",
      "metadata": {
        "id": "Tf1FUmZBUJpG"
      },
      "source": [
        "import tensorflow as tf\n",
        "import numpy as np\n",
        "import pandas as pd\n",
        "import matplotlib.pyplot as plt\n",
        "%matplotlib inline\n",
        "from sklearn.datasets import load_breast_cancer\n",
        "from sklearn.model_selection import train_test_split\n",
        "from sklearn.preprocessing import StandardScaler"
      ],
      "execution_count": null,
      "outputs": []
    },
    {
      "cell_type": "code",
      "metadata": {
        "id": "hAGytjOgUTq3"
      },
      "source": [
        "data = load_breast_cancer()\n"
      ],
      "execution_count": null,
      "outputs": []
    },
    {
      "cell_type": "code",
      "metadata": {
        "colab": {
          "base_uri": "https://localhost:8080/"
        },
        "id": "wsiSW76bZUgy",
        "outputId": "273a3b70-a292-4f38-ad5a-75dda0c3fe5d"
      },
      "source": [
        "type(data)"
      ],
      "execution_count": null,
      "outputs": [
        {
          "output_type": "execute_result",
          "data": {
            "text/plain": [
              "sklearn.utils.Bunch"
            ]
          },
          "metadata": {
            "tags": []
          },
          "execution_count": 3
        }
      ]
    },
    {
      "cell_type": "code",
      "metadata": {
        "colab": {
          "base_uri": "https://localhost:8080/"
        },
        "id": "vCiGziXiZpDG",
        "outputId": "6fed24e5-b592-4cf9-850d-28f6ea52b956"
      },
      "source": [
        "data.keys()"
      ],
      "execution_count": null,
      "outputs": [
        {
          "output_type": "execute_result",
          "data": {
            "text/plain": [
              "dict_keys(['data', 'target', 'target_names', 'DESCR', 'feature_names', 'filename'])"
            ]
          },
          "metadata": {
            "tags": []
          },
          "execution_count": 4
        }
      ]
    },
    {
      "cell_type": "code",
      "metadata": {
        "colab": {
          "base_uri": "https://localhost:8080/"
        },
        "id": "DhyobKbJZr1A",
        "outputId": "0794a120-cd53-4dc0-deb7-82ceda26ffd1"
      },
      "source": [
        "data.data.shape"
      ],
      "execution_count": null,
      "outputs": [
        {
          "output_type": "execute_result",
          "data": {
            "text/plain": [
              "(569, 30)"
            ]
          },
          "metadata": {
            "tags": []
          },
          "execution_count": 5
        }
      ]
    },
    {
      "cell_type": "code",
      "metadata": {
        "colab": {
          "base_uri": "https://localhost:8080/"
        },
        "id": "3Z3lajKZaEhk",
        "outputId": "6d89d23b-90d2-49bc-c1ce-63ab74a5b8eb"
      },
      "source": [
        "data.target.shape"
      ],
      "execution_count": null,
      "outputs": [
        {
          "output_type": "execute_result",
          "data": {
            "text/plain": [
              "(569,)"
            ]
          },
          "metadata": {
            "tags": []
          },
          "execution_count": 6
        }
      ]
    },
    {
      "cell_type": "code",
      "metadata": {
        "colab": {
          "base_uri": "https://localhost:8080/"
        },
        "id": "IKF936FuaN07",
        "outputId": "5472ce05-3048-4a0e-f326-5158c7c9f69b"
      },
      "source": [
        "data.feature_names"
      ],
      "execution_count": null,
      "outputs": [
        {
          "output_type": "execute_result",
          "data": {
            "text/plain": [
              "array(['mean radius', 'mean texture', 'mean perimeter', 'mean area',\n",
              "       'mean smoothness', 'mean compactness', 'mean concavity',\n",
              "       'mean concave points', 'mean symmetry', 'mean fractal dimension',\n",
              "       'radius error', 'texture error', 'perimeter error', 'area error',\n",
              "       'smoothness error', 'compactness error', 'concavity error',\n",
              "       'concave points error', 'symmetry error',\n",
              "       'fractal dimension error', 'worst radius', 'worst texture',\n",
              "       'worst perimeter', 'worst area', 'worst smoothness',\n",
              "       'worst compactness', 'worst concavity', 'worst concave points',\n",
              "       'worst symmetry', 'worst fractal dimension'], dtype='<U23')"
            ]
          },
          "metadata": {
            "tags": []
          },
          "execution_count": 7
        }
      ]
    },
    {
      "cell_type": "code",
      "metadata": {
        "id": "QrRr9bpAaklN"
      },
      "source": [
        "X_train, X_test, y_train, y_test = train_test_split(data.data, data.target, test_size=0.33)\n",
        "N, D = X_train.shape"
      ],
      "execution_count": null,
      "outputs": []
    },
    {
      "cell_type": "code",
      "metadata": {
        "id": "o8wDMnT2bJxN"
      },
      "source": [
        ""
      ],
      "execution_count": null,
      "outputs": []
    },
    {
      "cell_type": "code",
      "metadata": {
        "colab": {
          "base_uri": "https://localhost:8080/"
        },
        "id": "6yg-BMUdbL4g",
        "outputId": "6435d1a1-da42-441c-d659-af8d340c830a"
      },
      "source": [
        "D"
      ],
      "execution_count": null,
      "outputs": [
        {
          "output_type": "execute_result",
          "data": {
            "text/plain": [
              "30"
            ]
          },
          "metadata": {
            "tags": []
          },
          "execution_count": 10
        }
      ]
    },
    {
      "cell_type": "code",
      "metadata": {
        "colab": {
          "base_uri": "https://localhost:8080/"
        },
        "id": "2C9xn4h_bM_O",
        "outputId": "525eaadc-8c12-4fa4-ddc3-ba530e6ae1b7"
      },
      "source": [
        "X_train.shape"
      ],
      "execution_count": null,
      "outputs": [
        {
          "output_type": "execute_result",
          "data": {
            "text/plain": [
              "(381, 30)"
            ]
          },
          "metadata": {
            "tags": []
          },
          "execution_count": 11
        }
      ]
    },
    {
      "cell_type": "code",
      "metadata": {
        "colab": {
          "base_uri": "https://localhost:8080/"
        },
        "id": "_h7of18jb937",
        "outputId": "692e271e-b6ff-4344-979d-abe49c0da0ef"
      },
      "source": [
        "X_train"
      ],
      "execution_count": null,
      "outputs": [
        {
          "output_type": "execute_result",
          "data": {
            "text/plain": [
              "array([[1.481e+01, 1.470e+01, 9.466e+01, ..., 7.955e-02, 2.334e-01,\n",
              "        6.142e-02],\n",
              "       [1.193e+01, 2.153e+01, 7.653e+01, ..., 7.247e-02, 2.438e-01,\n",
              "        8.541e-02],\n",
              "       [2.201e+01, 2.190e+01, 1.472e+02, ..., 2.432e-01, 2.741e-01,\n",
              "        8.574e-02],\n",
              "       ...,\n",
              "       [1.203e+01, 1.793e+01, 7.609e+01, ..., 2.796e-02, 2.171e-01,\n",
              "        7.037e-02],\n",
              "       [1.108e+01, 1.471e+01, 7.021e+01, ..., 4.306e-02, 1.902e-01,\n",
              "        7.313e-02],\n",
              "       [2.018e+01, 1.954e+01, 1.338e+02, ..., 2.173e-01, 3.032e-01,\n",
              "        8.075e-02]])"
            ]
          },
          "metadata": {
            "tags": []
          },
          "execution_count": 12
        }
      ]
    },
    {
      "cell_type": "code",
      "metadata": {
        "id": "wpDxUNBwbPVU"
      },
      "source": [
        "scaler = StandardScaler()\n",
        "X_train = scaler.fit_transform(X_train)\n",
        "X_test = scaler.transform(X_test)"
      ],
      "execution_count": null,
      "outputs": []
    },
    {
      "cell_type": "code",
      "metadata": {
        "colab": {
          "base_uri": "https://localhost:8080/"
        },
        "id": "yMyXzEzZD7ZP",
        "outputId": "bf97de5c-ebcf-4b28-8d45-9a82f06749ae"
      },
      "source": [
        "model = tf.keras.models.Sequential([\n",
        "    tf.keras.layers.Input(shape=(D,)),\n",
        "    tf.keras.layers.Dense(1, activation='sigmoid')\n",
        "])\n",
        "\n",
        "model.compile(optimizer='adam',\n",
        "              loss='binary_crossentropy',\n",
        "              metrics='accuracy')\n",
        "\n",
        "r = model.fit(X_train, y_train, validation_data=(X_test, y_test), epochs=100)\n",
        "\n",
        "print('Train Score:', model.evaluate(X_train, y_train))\n",
        "print('Test Score:', model.evaluate(X_test, y_test))"
      ],
      "execution_count": null,
      "outputs": [
        {
          "output_type": "stream",
          "text": [
            "Epoch 1/100\n",
            "12/12 [==============================] - 1s 50ms/step - loss: 0.7470 - accuracy: 0.5420 - val_loss: 0.7480 - val_accuracy: 0.5638\n",
            "Epoch 2/100\n",
            "12/12 [==============================] - 0s 5ms/step - loss: 0.6725 - accuracy: 0.6192 - val_loss: 0.6864 - val_accuracy: 0.6011\n",
            "Epoch 3/100\n",
            "12/12 [==============================] - 0s 6ms/step - loss: 0.5942 - accuracy: 0.7133 - val_loss: 0.6340 - val_accuracy: 0.6436\n",
            "Epoch 4/100\n",
            "12/12 [==============================] - 0s 6ms/step - loss: 0.5579 - accuracy: 0.7526 - val_loss: 0.5901 - val_accuracy: 0.6862\n",
            "Epoch 5/100\n",
            "12/12 [==============================] - 0s 6ms/step - loss: 0.5033 - accuracy: 0.7751 - val_loss: 0.5535 - val_accuracy: 0.7394\n",
            "Epoch 6/100\n",
            "12/12 [==============================] - 0s 7ms/step - loss: 0.4420 - accuracy: 0.8150 - val_loss: 0.5227 - val_accuracy: 0.7660\n",
            "Epoch 7/100\n",
            "12/12 [==============================] - 0s 6ms/step - loss: 0.4299 - accuracy: 0.8338 - val_loss: 0.4961 - val_accuracy: 0.7979\n",
            "Epoch 8/100\n",
            "12/12 [==============================] - 0s 6ms/step - loss: 0.4126 - accuracy: 0.8554 - val_loss: 0.4732 - val_accuracy: 0.8032\n",
            "Epoch 9/100\n",
            "12/12 [==============================] - 0s 5ms/step - loss: 0.3749 - accuracy: 0.8767 - val_loss: 0.4531 - val_accuracy: 0.8245\n",
            "Epoch 10/100\n",
            "12/12 [==============================] - 0s 6ms/step - loss: 0.3570 - accuracy: 0.8599 - val_loss: 0.4350 - val_accuracy: 0.8298\n",
            "Epoch 11/100\n",
            "12/12 [==============================] - 0s 5ms/step - loss: 0.3567 - accuracy: 0.8833 - val_loss: 0.4187 - val_accuracy: 0.8404\n",
            "Epoch 12/100\n",
            "12/12 [==============================] - 0s 6ms/step - loss: 0.3178 - accuracy: 0.8947 - val_loss: 0.4045 - val_accuracy: 0.8564\n",
            "Epoch 13/100\n",
            "12/12 [==============================] - 0s 6ms/step - loss: 0.2986 - accuracy: 0.9011 - val_loss: 0.3908 - val_accuracy: 0.8670\n",
            "Epoch 14/100\n",
            "12/12 [==============================] - 0s 7ms/step - loss: 0.2829 - accuracy: 0.9062 - val_loss: 0.3790 - val_accuracy: 0.8670\n",
            "Epoch 15/100\n",
            "12/12 [==============================] - 0s 6ms/step - loss: 0.2711 - accuracy: 0.9198 - val_loss: 0.3676 - val_accuracy: 0.8670\n",
            "Epoch 16/100\n",
            "12/12 [==============================] - 0s 7ms/step - loss: 0.2606 - accuracy: 0.9167 - val_loss: 0.3570 - val_accuracy: 0.8670\n",
            "Epoch 17/100\n",
            "12/12 [==============================] - 0s 6ms/step - loss: 0.2698 - accuracy: 0.9093 - val_loss: 0.3471 - val_accuracy: 0.8670\n",
            "Epoch 18/100\n",
            "12/12 [==============================] - 0s 6ms/step - loss: 0.2451 - accuracy: 0.9201 - val_loss: 0.3384 - val_accuracy: 0.8670\n",
            "Epoch 19/100\n",
            "12/12 [==============================] - 0s 7ms/step - loss: 0.2354 - accuracy: 0.9252 - val_loss: 0.3302 - val_accuracy: 0.8670\n",
            "Epoch 20/100\n",
            "12/12 [==============================] - 0s 6ms/step - loss: 0.2542 - accuracy: 0.9084 - val_loss: 0.3221 - val_accuracy: 0.8670\n",
            "Epoch 21/100\n",
            "12/12 [==============================] - 0s 5ms/step - loss: 0.2242 - accuracy: 0.9313 - val_loss: 0.3149 - val_accuracy: 0.8723\n",
            "Epoch 22/100\n",
            "12/12 [==============================] - 0s 6ms/step - loss: 0.2272 - accuracy: 0.9142 - val_loss: 0.3077 - val_accuracy: 0.8723\n",
            "Epoch 23/100\n",
            "12/12 [==============================] - 0s 7ms/step - loss: 0.2209 - accuracy: 0.9204 - val_loss: 0.3005 - val_accuracy: 0.8777\n",
            "Epoch 24/100\n",
            "12/12 [==============================] - 0s 7ms/step - loss: 0.1814 - accuracy: 0.9535 - val_loss: 0.2949 - val_accuracy: 0.8830\n",
            "Epoch 25/100\n",
            "12/12 [==============================] - 0s 6ms/step - loss: 0.2112 - accuracy: 0.9298 - val_loss: 0.2885 - val_accuracy: 0.8830\n",
            "Epoch 26/100\n",
            "12/12 [==============================] - 0s 6ms/step - loss: 0.1929 - accuracy: 0.9343 - val_loss: 0.2828 - val_accuracy: 0.8830\n",
            "Epoch 27/100\n",
            "12/12 [==============================] - 0s 7ms/step - loss: 0.2021 - accuracy: 0.9433 - val_loss: 0.2770 - val_accuracy: 0.8830\n",
            "Epoch 28/100\n",
            "12/12 [==============================] - 0s 6ms/step - loss: 0.1832 - accuracy: 0.9551 - val_loss: 0.2723 - val_accuracy: 0.8830\n",
            "Epoch 29/100\n",
            "12/12 [==============================] - 0s 6ms/step - loss: 0.2050 - accuracy: 0.9417 - val_loss: 0.2670 - val_accuracy: 0.8830\n",
            "Epoch 30/100\n",
            "12/12 [==============================] - 0s 7ms/step - loss: 0.1845 - accuracy: 0.9461 - val_loss: 0.2624 - val_accuracy: 0.8830\n",
            "Epoch 31/100\n",
            "12/12 [==============================] - 0s 7ms/step - loss: 0.1742 - accuracy: 0.9594 - val_loss: 0.2585 - val_accuracy: 0.8883\n",
            "Epoch 32/100\n",
            "12/12 [==============================] - 0s 6ms/step - loss: 0.1633 - accuracy: 0.9608 - val_loss: 0.2544 - val_accuracy: 0.8936\n",
            "Epoch 33/100\n",
            "12/12 [==============================] - 0s 6ms/step - loss: 0.1679 - accuracy: 0.9483 - val_loss: 0.2504 - val_accuracy: 0.8936\n",
            "Epoch 34/100\n",
            "12/12 [==============================] - 0s 6ms/step - loss: 0.1517 - accuracy: 0.9509 - val_loss: 0.2464 - val_accuracy: 0.8936\n",
            "Epoch 35/100\n",
            "12/12 [==============================] - 0s 6ms/step - loss: 0.1767 - accuracy: 0.9517 - val_loss: 0.2425 - val_accuracy: 0.8936\n",
            "Epoch 36/100\n",
            "12/12 [==============================] - 0s 6ms/step - loss: 0.1683 - accuracy: 0.9547 - val_loss: 0.2391 - val_accuracy: 0.8936\n",
            "Epoch 37/100\n",
            "12/12 [==============================] - 0s 6ms/step - loss: 0.1540 - accuracy: 0.9607 - val_loss: 0.2356 - val_accuracy: 0.8936\n",
            "Epoch 38/100\n",
            "12/12 [==============================] - 0s 6ms/step - loss: 0.1594 - accuracy: 0.9487 - val_loss: 0.2322 - val_accuracy: 0.8936\n",
            "Epoch 39/100\n",
            "12/12 [==============================] - 0s 6ms/step - loss: 0.1617 - accuracy: 0.9627 - val_loss: 0.2293 - val_accuracy: 0.8989\n",
            "Epoch 40/100\n",
            "12/12 [==============================] - 0s 6ms/step - loss: 0.1464 - accuracy: 0.9558 - val_loss: 0.2262 - val_accuracy: 0.8989\n",
            "Epoch 41/100\n",
            "12/12 [==============================] - 0s 6ms/step - loss: 0.1612 - accuracy: 0.9438 - val_loss: 0.2234 - val_accuracy: 0.9043\n",
            "Epoch 42/100\n",
            "12/12 [==============================] - 0s 6ms/step - loss: 0.1501 - accuracy: 0.9566 - val_loss: 0.2206 - val_accuracy: 0.9043\n",
            "Epoch 43/100\n",
            "12/12 [==============================] - 0s 6ms/step - loss: 0.1439 - accuracy: 0.9732 - val_loss: 0.2179 - val_accuracy: 0.9096\n",
            "Epoch 44/100\n",
            "12/12 [==============================] - 0s 6ms/step - loss: 0.1529 - accuracy: 0.9451 - val_loss: 0.2151 - val_accuracy: 0.9096\n",
            "Epoch 45/100\n",
            "12/12 [==============================] - 0s 5ms/step - loss: 0.1379 - accuracy: 0.9524 - val_loss: 0.2126 - val_accuracy: 0.9149\n",
            "Epoch 46/100\n",
            "12/12 [==============================] - 0s 6ms/step - loss: 0.1237 - accuracy: 0.9723 - val_loss: 0.2104 - val_accuracy: 0.9149\n",
            "Epoch 47/100\n",
            "12/12 [==============================] - 0s 6ms/step - loss: 0.1254 - accuracy: 0.9782 - val_loss: 0.2081 - val_accuracy: 0.9149\n",
            "Epoch 48/100\n",
            "12/12 [==============================] - 0s 5ms/step - loss: 0.1247 - accuracy: 0.9672 - val_loss: 0.2058 - val_accuracy: 0.9149\n",
            "Epoch 49/100\n",
            "12/12 [==============================] - 0s 6ms/step - loss: 0.1331 - accuracy: 0.9649 - val_loss: 0.2035 - val_accuracy: 0.9149\n",
            "Epoch 50/100\n",
            "12/12 [==============================] - 0s 6ms/step - loss: 0.1214 - accuracy: 0.9729 - val_loss: 0.2011 - val_accuracy: 0.9149\n",
            "Epoch 51/100\n",
            "12/12 [==============================] - 0s 6ms/step - loss: 0.1353 - accuracy: 0.9613 - val_loss: 0.1988 - val_accuracy: 0.9202\n",
            "Epoch 52/100\n",
            "12/12 [==============================] - 0s 6ms/step - loss: 0.1254 - accuracy: 0.9713 - val_loss: 0.1972 - val_accuracy: 0.9255\n",
            "Epoch 53/100\n",
            "12/12 [==============================] - 0s 6ms/step - loss: 0.1247 - accuracy: 0.9694 - val_loss: 0.1955 - val_accuracy: 0.9255\n",
            "Epoch 54/100\n",
            "12/12 [==============================] - 0s 6ms/step - loss: 0.1210 - accuracy: 0.9697 - val_loss: 0.1932 - val_accuracy: 0.9255\n",
            "Epoch 55/100\n",
            "12/12 [==============================] - 0s 6ms/step - loss: 0.1100 - accuracy: 0.9739 - val_loss: 0.1915 - val_accuracy: 0.9255\n",
            "Epoch 56/100\n",
            "12/12 [==============================] - 0s 5ms/step - loss: 0.1056 - accuracy: 0.9877 - val_loss: 0.1902 - val_accuracy: 0.9309\n",
            "Epoch 57/100\n",
            "12/12 [==============================] - 0s 6ms/step - loss: 0.1164 - accuracy: 0.9832 - val_loss: 0.1885 - val_accuracy: 0.9309\n",
            "Epoch 58/100\n",
            "12/12 [==============================] - 0s 6ms/step - loss: 0.1263 - accuracy: 0.9671 - val_loss: 0.1865 - val_accuracy: 0.9309\n",
            "Epoch 59/100\n",
            "12/12 [==============================] - 0s 6ms/step - loss: 0.1170 - accuracy: 0.9732 - val_loss: 0.1848 - val_accuracy: 0.9309\n",
            "Epoch 60/100\n",
            "12/12 [==============================] - 0s 6ms/step - loss: 0.1061 - accuracy: 0.9806 - val_loss: 0.1832 - val_accuracy: 0.9362\n",
            "Epoch 61/100\n",
            "12/12 [==============================] - 0s 5ms/step - loss: 0.1085 - accuracy: 0.9766 - val_loss: 0.1817 - val_accuracy: 0.9362\n",
            "Epoch 62/100\n",
            "12/12 [==============================] - 0s 6ms/step - loss: 0.1239 - accuracy: 0.9714 - val_loss: 0.1799 - val_accuracy: 0.9362\n",
            "Epoch 63/100\n",
            "12/12 [==============================] - 0s 6ms/step - loss: 0.1242 - accuracy: 0.9723 - val_loss: 0.1786 - val_accuracy: 0.9362\n",
            "Epoch 64/100\n",
            "12/12 [==============================] - 0s 7ms/step - loss: 0.1028 - accuracy: 0.9834 - val_loss: 0.1773 - val_accuracy: 0.9362\n",
            "Epoch 65/100\n",
            "12/12 [==============================] - 0s 6ms/step - loss: 0.1081 - accuracy: 0.9767 - val_loss: 0.1761 - val_accuracy: 0.9362\n",
            "Epoch 66/100\n",
            "12/12 [==============================] - 0s 6ms/step - loss: 0.1091 - accuracy: 0.9732 - val_loss: 0.1747 - val_accuracy: 0.9362\n",
            "Epoch 67/100\n",
            "12/12 [==============================] - 0s 7ms/step - loss: 0.0996 - accuracy: 0.9847 - val_loss: 0.1733 - val_accuracy: 0.9415\n",
            "Epoch 68/100\n",
            "12/12 [==============================] - 0s 6ms/step - loss: 0.1063 - accuracy: 0.9827 - val_loss: 0.1718 - val_accuracy: 0.9468\n",
            "Epoch 69/100\n",
            "12/12 [==============================] - 0s 6ms/step - loss: 0.0975 - accuracy: 0.9842 - val_loss: 0.1707 - val_accuracy: 0.9468\n",
            "Epoch 70/100\n",
            "12/12 [==============================] - 0s 6ms/step - loss: 0.0961 - accuracy: 0.9829 - val_loss: 0.1693 - val_accuracy: 0.9468\n",
            "Epoch 71/100\n",
            "12/12 [==============================] - 0s 6ms/step - loss: 0.1087 - accuracy: 0.9769 - val_loss: 0.1680 - val_accuracy: 0.9468\n",
            "Epoch 72/100\n",
            "12/12 [==============================] - 0s 6ms/step - loss: 0.0958 - accuracy: 0.9875 - val_loss: 0.1669 - val_accuracy: 0.9521\n",
            "Epoch 73/100\n",
            "12/12 [==============================] - 0s 6ms/step - loss: 0.1038 - accuracy: 0.9836 - val_loss: 0.1659 - val_accuracy: 0.9521\n",
            "Epoch 74/100\n",
            "12/12 [==============================] - 0s 6ms/step - loss: 0.1124 - accuracy: 0.9736 - val_loss: 0.1647 - val_accuracy: 0.9521\n",
            "Epoch 75/100\n",
            "12/12 [==============================] - 0s 6ms/step - loss: 0.0961 - accuracy: 0.9812 - val_loss: 0.1638 - val_accuracy: 0.9521\n",
            "Epoch 76/100\n",
            "12/12 [==============================] - 0s 7ms/step - loss: 0.1033 - accuracy: 0.9750 - val_loss: 0.1627 - val_accuracy: 0.9521\n",
            "Epoch 77/100\n",
            "12/12 [==============================] - 0s 6ms/step - loss: 0.0977 - accuracy: 0.9699 - val_loss: 0.1613 - val_accuracy: 0.9521\n",
            "Epoch 78/100\n",
            "12/12 [==============================] - 0s 6ms/step - loss: 0.0944 - accuracy: 0.9842 - val_loss: 0.1604 - val_accuracy: 0.9521\n",
            "Epoch 79/100\n",
            "12/12 [==============================] - 0s 6ms/step - loss: 0.0867 - accuracy: 0.9852 - val_loss: 0.1596 - val_accuracy: 0.9521\n",
            "Epoch 80/100\n",
            "12/12 [==============================] - 0s 6ms/step - loss: 0.0980 - accuracy: 0.9773 - val_loss: 0.1584 - val_accuracy: 0.9521\n",
            "Epoch 81/100\n",
            "12/12 [==============================] - 0s 6ms/step - loss: 0.1006 - accuracy: 0.9696 - val_loss: 0.1575 - val_accuracy: 0.9521\n",
            "Epoch 82/100\n",
            "12/12 [==============================] - 0s 6ms/step - loss: 0.0924 - accuracy: 0.9827 - val_loss: 0.1565 - val_accuracy: 0.9521\n",
            "Epoch 83/100\n",
            "12/12 [==============================] - 0s 6ms/step - loss: 0.0940 - accuracy: 0.9736 - val_loss: 0.1555 - val_accuracy: 0.9521\n",
            "Epoch 84/100\n",
            "12/12 [==============================] - 0s 6ms/step - loss: 0.0922 - accuracy: 0.9780 - val_loss: 0.1548 - val_accuracy: 0.9521\n",
            "Epoch 85/100\n",
            "12/12 [==============================] - 0s 6ms/step - loss: 0.0922 - accuracy: 0.9715 - val_loss: 0.1539 - val_accuracy: 0.9521\n",
            "Epoch 86/100\n",
            "12/12 [==============================] - 0s 7ms/step - loss: 0.0934 - accuracy: 0.9793 - val_loss: 0.1532 - val_accuracy: 0.9521\n",
            "Epoch 87/100\n",
            "12/12 [==============================] - 0s 8ms/step - loss: 0.0900 - accuracy: 0.9802 - val_loss: 0.1521 - val_accuracy: 0.9521\n",
            "Epoch 88/100\n",
            "12/12 [==============================] - 0s 6ms/step - loss: 0.0960 - accuracy: 0.9733 - val_loss: 0.1513 - val_accuracy: 0.9521\n",
            "Epoch 89/100\n",
            "12/12 [==============================] - 0s 6ms/step - loss: 0.0930 - accuracy: 0.9835 - val_loss: 0.1506 - val_accuracy: 0.9521\n",
            "Epoch 90/100\n",
            "12/12 [==============================] - 0s 6ms/step - loss: 0.1059 - accuracy: 0.9670 - val_loss: 0.1498 - val_accuracy: 0.9521\n",
            "Epoch 91/100\n",
            "12/12 [==============================] - 0s 6ms/step - loss: 0.0906 - accuracy: 0.9814 - val_loss: 0.1491 - val_accuracy: 0.9521\n",
            "Epoch 92/100\n",
            "12/12 [==============================] - 0s 6ms/step - loss: 0.0865 - accuracy: 0.9831 - val_loss: 0.1484 - val_accuracy: 0.9521\n",
            "Epoch 93/100\n",
            "12/12 [==============================] - 0s 5ms/step - loss: 0.0848 - accuracy: 0.9753 - val_loss: 0.1476 - val_accuracy: 0.9521\n",
            "Epoch 94/100\n",
            "12/12 [==============================] - 0s 6ms/step - loss: 0.0908 - accuracy: 0.9760 - val_loss: 0.1465 - val_accuracy: 0.9574\n",
            "Epoch 95/100\n",
            "12/12 [==============================] - 0s 5ms/step - loss: 0.0905 - accuracy: 0.9793 - val_loss: 0.1458 - val_accuracy: 0.9574\n",
            "Epoch 96/100\n",
            "12/12 [==============================] - 0s 6ms/step - loss: 0.0938 - accuracy: 0.9755 - val_loss: 0.1455 - val_accuracy: 0.9574\n",
            "Epoch 97/100\n",
            "12/12 [==============================] - 0s 6ms/step - loss: 0.0884 - accuracy: 0.9776 - val_loss: 0.1446 - val_accuracy: 0.9574\n",
            "Epoch 98/100\n",
            "12/12 [==============================] - 0s 6ms/step - loss: 0.0968 - accuracy: 0.9681 - val_loss: 0.1438 - val_accuracy: 0.9574\n",
            "Epoch 99/100\n",
            "12/12 [==============================] - 0s 6ms/step - loss: 0.0872 - accuracy: 0.9743 - val_loss: 0.1435 - val_accuracy: 0.9574\n",
            "Epoch 100/100\n",
            "12/12 [==============================] - 0s 6ms/step - loss: 0.0858 - accuracy: 0.9800 - val_loss: 0.1424 - val_accuracy: 0.9574\n",
            "12/12 [==============================] - 0s 1ms/step - loss: 0.0825 - accuracy: 0.9790\n",
            "Train Score: [0.08248592168092728, 0.9790025949478149]\n",
            "6/6 [==============================] - 0s 2ms/step - loss: 0.1424 - accuracy: 0.9574\n",
            "Test Score: [0.142430379986763, 0.957446813583374]\n"
          ],
          "name": "stdout"
        }
      ]
    },
    {
      "cell_type": "code",
      "metadata": {
        "colab": {
          "base_uri": "https://localhost:8080/",
          "height": 282
        },
        "id": "y-m4xO5aGfek",
        "outputId": "db1d1349-0543-4105-ad5b-9d754b6205bf"
      },
      "source": [
        "plt.plot(r.history['loss'], label='loss')\n",
        "plt.plot(r.history['val_loss'], label='val_loss')\n",
        "plt.legend()"
      ],
      "execution_count": null,
      "outputs": [
        {
          "output_type": "execute_result",
          "data": {
            "text/plain": [
              "<matplotlib.legend.Legend at 0x7f1826fef310>"
            ]
          },
          "metadata": {
            "tags": []
          },
          "execution_count": 21
        },
        {
          "output_type": "display_data",
          "data": {
            "image/png": "[encoded data removed]",
            "text/plain": [
              "<Figure size 432x288 with 1 Axes>"
            ]
          },
          "metadata": {
            "tags": [],
            "needs_background": "light"
          }
        }
      ]
    },
    {
      "cell_type": "code",
      "metadata": {
        "colab": {
          "base_uri": "https://localhost:8080/",
          "height": 282
        },
        "id": "0tyjsw-sHJB9",
        "outputId": "cf1b089d-6984-4ecf-8b81-b4f5a113a940"
      },
      "source": [
        "plt.plot(r.history['accuracy'], label='accuracy')\n",
        "plt.plot(r.history['val_accuracy'], label='val_accuracy')\n",
        "plt.legend()"
      ],
      "execution_count": null,
      "outputs": [
        {
          "output_type": "execute_result",
          "data": {
            "text/plain": [
              "<matplotlib.legend.Legend at 0x7f1826a64d90>"
            ]
          },
          "metadata": {
            "tags": []
          },
          "execution_count": 22
        },
        {
          "output_type": "display_data",
          "data": {
            "image/png": "[encoded data removed]",
            "text/plain": [
              "<Figure size 432x288 with 1 Axes>"
            ]
          },
          "metadata": {
            "tags": [],
            "needs_background": "light"
          }
        }
      ]
    },
    {
      "cell_type": "code",
      "metadata": {
        "id": "Bc6S7KlMHm6J"
      },
      "source": [
        ""
      ],
      "execution_count": null,
      "outputs": []
    }
  ]
}